{
 "cells": [
  {
   "cell_type": "code",
   "execution_count": 1,
   "id": "c10c1e51-0b7e-466b-be26-1b0297204dc7",
   "metadata": {},
   "outputs": [],
   "source": [
    "# QUESTION 9"
   ]
  },
  {
   "cell_type": "code",
   "execution_count": 3,
   "id": "836041fd-f741-4940-babe-89ef1a3d6df3",
   "metadata": {},
   "outputs": [],
   "source": [
    "# Class Shape Subclasses Circle, Rectangle, Triangle"
   ]
  },
  {
   "cell_type": "code",
   "execution_count": 5,
   "id": "097feacd-1a42-4dd4-a448-891989a1eddf",
   "metadata": {},
   "outputs": [
    {
     "name": "stdout",
     "output_type": "stream",
     "text": [
      "Area of Rectangle: 120\n",
      "Area of Circle: 314.0\n",
      "Area of Triangle: 20.0\n"
     ]
    }
   ],
   "source": [
    "class Shape:\n",
    "    def calculate_area(self):\n",
    "        raise NotImplementError(\"Subcclasses must implement this method\")\n",
    "        \n",
    "class Rectangle(Shape):\n",
    "    def __init__ (self, length, width):\n",
    "        self.length=length\n",
    "        self.width=width\n",
    "    def rectangle_area(self):\n",
    "        return self.length*self.width\n",
    "given_rectangle=Rectangle(10,12)\n",
    "print(f\"Area of Rectangle: {given_rectangle.rectangle_area()}\")\n",
    "\n",
    "class Circle:\n",
    "    def __init__ (self, radius):\n",
    "        self.radius=radius\n",
    "    def circle_area(self):\n",
    "        return 3.14*(self.radius**2)\n",
    "given_circle=Circle(10)\n",
    "print(f\"Area of Circle: {given_circle.circle_area()}\")\n",
    "\n",
    "class Triangle(Shape):\n",
    "    def __init__ (self, base, height):\n",
    "        self.base=base\n",
    "        self.height=height\n",
    "    def triangle_area(self):\n",
    "        return 0.5*self.base*self.height\n",
    "given_triangle=Triangle(5,8)\n",
    "print(f\"Area of Triangle: {given_triangle.triangle_area()}\")"
   ]
  },
  {
   "cell_type": "code",
   "execution_count": 7,
   "id": "64b2b4cc-f5b8-4372-845f-cc35747d0440",
   "metadata": {},
   "outputs": [],
   "source": [
    "# QUESTION 10"
   ]
  },
  {
   "cell_type": "code",
   "execution_count": 9,
   "id": "4796a982-0548-423e-815c-3b750f0cde57",
   "metadata": {},
   "outputs": [],
   "source": [
    "# Class Animal Subclasses Dog, Cat, Cow"
   ]
  },
  {
   "cell_type": "code",
   "execution_count": 13,
   "id": "66c3265d-c3f1-439e-abe5-5ca3815f5e7f",
   "metadata": {},
   "outputs": [
    {
     "name": "stdout",
     "output_type": "stream",
     "text": [
      "Max says: Woof Woof\n",
      "Maggie says: Meow Meow\n",
      "Bruno says: Moo Moo\n"
     ]
    }
   ],
   "source": [
    "class Animal:\n",
    "    def __init__(self, name):\n",
    "        self.name=name\n",
    "    def sound(self):\n",
    "        raise NotImplementError(\"Subclasses must implement this method.\")\n",
    "\n",
    "class Dog(Animal):\n",
    "    def sound(self):\n",
    "        return \"Woof Woof\"\n",
    "dog=Dog(name=\"Max\")\n",
    "print(f\"{dog.name} says: {dog.sound()}\")\n",
    "\n",
    "class Cat(Animal):\n",
    "    def sound(self):\n",
    "        return \"Meow Meow\"\n",
    "cat=Cat(name=\"Maggie\")\n",
    "print(f\"{cat.name} says: {cat.sound()}\")\n",
    "\n",
    "class Cow(Animal):\n",
    "    def sound(self):\n",
    "        return \"Moo Moo\"\n",
    "cow=Cow(name=\"Bruno\")\n",
    "print(f\"{cow.name} says: {cow.sound()}\")"
   ]
  },
  {
   "cell_type": "code",
   "execution_count": null,
   "id": "3497456e-1bb2-49cd-a3d7-f30175b6b299",
   "metadata": {},
   "outputs": [],
   "source": []
  }
 ],
 "metadata": {
  "kernelspec": {
   "display_name": "Python 3 (ipykernel)",
   "language": "python",
   "name": "python3"
  },
  "language_info": {
   "codemirror_mode": {
    "name": "ipython",
    "version": 3
   },
   "file_extension": ".py",
   "mimetype": "text/x-python",
   "name": "python",
   "nbconvert_exporter": "python",
   "pygments_lexer": "ipython3",
   "version": "3.12.4"
  }
 },
 "nbformat": 4,
 "nbformat_minor": 5
}
